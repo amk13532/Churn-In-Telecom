{
 "cells": [
  {
   "cell_type": "markdown",
   "metadata": {},
   "source": [
    "## Final Project Submission\n",
    "\n",
    "Please fill out:\n",
    "* Student name: \n",
    "* Student pace: self paced / part time / full time\n",
    "* Scheduled project review date/time: \n",
    "* Instructor name: \n",
    "* Blog post URL:\n"
   ]
  },
  {
   "cell_type": "code",
   "execution_count": 1,
   "metadata": {},
   "outputs": [],
   "source": [
    "#Importing Required Libraries\n",
    "\n",
    "import numpy as np\n",
    "import pandas as pd\n",
    "\n",
    "from sklearn.tree import DecisionTreeClassifier\n",
    "from sklearn.ensemble import RandomForestClassifier\n",
    "from sklearn.tree import DecisionTreeRegressor\n",
    "from sklearn.neighbors import KNeighborsClassifier\n",
    "from sklearn.linear_model import LogisticRegression\n",
    "from sklearn.svm import SVC\n",
    "from sklearn.metrics import precision_score, recall_score, accuracy_score, f1_score    \n",
    "\n",
    "\n",
    "import matplotlib.pyplot as plt\n"
   ]
  },
  {
   "cell_type": "code",
   "execution_count": 2,
   "metadata": {},
   "outputs": [],
   "source": [
    "#Create initial DF\n",
    "\n",
    "df = pd.read_csv('ChurnData.csv')"
   ]
  },
  {
   "cell_type": "code",
   "execution_count": 3,
   "metadata": {},
   "outputs": [
    {
     "name": "stdout",
     "output_type": "stream",
     "text": [
      "<class 'pandas.core.frame.DataFrame'>\n",
      "RangeIndex: 3333 entries, 0 to 3332\n",
      "Data columns (total 21 columns):\n",
      " #   Column                  Non-Null Count  Dtype  \n",
      "---  ------                  --------------  -----  \n",
      " 0   state                   3333 non-null   object \n",
      " 1   account length          3333 non-null   int64  \n",
      " 2   area code               3333 non-null   int64  \n",
      " 3   phone number            3333 non-null   object \n",
      " 4   international plan      3333 non-null   object \n",
      " 5   voice mail plan         3333 non-null   object \n",
      " 6   number vmail messages   3333 non-null   int64  \n",
      " 7   total day minutes       3333 non-null   float64\n",
      " 8   total day calls         3333 non-null   int64  \n",
      " 9   total day charge        3333 non-null   float64\n",
      " 10  total eve minutes       3333 non-null   float64\n",
      " 11  total eve calls         3333 non-null   int64  \n",
      " 12  total eve charge        3333 non-null   float64\n",
      " 13  total night minutes     3333 non-null   float64\n",
      " 14  total night calls       3333 non-null   int64  \n",
      " 15  total night charge      3333 non-null   float64\n",
      " 16  total intl minutes      3333 non-null   float64\n",
      " 17  total intl calls        3333 non-null   int64  \n",
      " 18  total intl charge       3333 non-null   float64\n",
      " 19  customer service calls  3333 non-null   int64  \n",
      " 20  churn                   3333 non-null   bool   \n",
      "dtypes: bool(1), float64(8), int64(8), object(4)\n",
      "memory usage: 524.2+ KB\n"
     ]
    }
   ],
   "source": [
    "#Checking Info\n",
    "\n",
    "df.info()"
   ]
  },
  {
   "cell_type": "code",
   "execution_count": 4,
   "metadata": {},
   "outputs": [
    {
     "data": {
      "text/plain": [
       "(3333, 21)"
      ]
     },
     "execution_count": 4,
     "metadata": {},
     "output_type": "execute_result"
    }
   ],
   "source": [
    "#Get data set dimnensions\n",
    "\n",
    "df.shape"
   ]
  },
  {
   "cell_type": "code",
   "execution_count": 5,
   "metadata": {},
   "outputs": [
    {
     "data": {
      "text/html": [
       "<div>\n",
       "<style scoped>\n",
       "    .dataframe tbody tr th:only-of-type {\n",
       "        vertical-align: middle;\n",
       "    }\n",
       "\n",
       "    .dataframe tbody tr th {\n",
       "        vertical-align: top;\n",
       "    }\n",
       "\n",
       "    .dataframe thead th {\n",
       "        text-align: right;\n",
       "    }\n",
       "</style>\n",
       "<table border=\"1\" class=\"dataframe\">\n",
       "  <thead>\n",
       "    <tr style=\"text-align: right;\">\n",
       "      <th></th>\n",
       "      <th>account length</th>\n",
       "      <th>area code</th>\n",
       "      <th>number vmail messages</th>\n",
       "      <th>total day minutes</th>\n",
       "      <th>total day calls</th>\n",
       "      <th>total day charge</th>\n",
       "      <th>total eve minutes</th>\n",
       "      <th>total eve calls</th>\n",
       "      <th>total eve charge</th>\n",
       "      <th>total night minutes</th>\n",
       "      <th>total night calls</th>\n",
       "      <th>total night charge</th>\n",
       "      <th>total intl minutes</th>\n",
       "      <th>total intl calls</th>\n",
       "      <th>total intl charge</th>\n",
       "      <th>customer service calls</th>\n",
       "    </tr>\n",
       "  </thead>\n",
       "  <tbody>\n",
       "    <tr>\n",
       "      <th>count</th>\n",
       "      <td>3333.000000</td>\n",
       "      <td>3333.000000</td>\n",
       "      <td>3333.000000</td>\n",
       "      <td>3333.000000</td>\n",
       "      <td>3333.000000</td>\n",
       "      <td>3333.000000</td>\n",
       "      <td>3333.000000</td>\n",
       "      <td>3333.000000</td>\n",
       "      <td>3333.000000</td>\n",
       "      <td>3333.000000</td>\n",
       "      <td>3333.000000</td>\n",
       "      <td>3333.000000</td>\n",
       "      <td>3333.000000</td>\n",
       "      <td>3333.000000</td>\n",
       "      <td>3333.000000</td>\n",
       "      <td>3333.000000</td>\n",
       "    </tr>\n",
       "    <tr>\n",
       "      <th>mean</th>\n",
       "      <td>101.064806</td>\n",
       "      <td>437.182418</td>\n",
       "      <td>8.099010</td>\n",
       "      <td>179.775098</td>\n",
       "      <td>100.435644</td>\n",
       "      <td>30.562307</td>\n",
       "      <td>200.980348</td>\n",
       "      <td>100.114311</td>\n",
       "      <td>17.083540</td>\n",
       "      <td>200.872037</td>\n",
       "      <td>100.107711</td>\n",
       "      <td>9.039325</td>\n",
       "      <td>10.237294</td>\n",
       "      <td>4.479448</td>\n",
       "      <td>2.764581</td>\n",
       "      <td>1.562856</td>\n",
       "    </tr>\n",
       "    <tr>\n",
       "      <th>std</th>\n",
       "      <td>39.822106</td>\n",
       "      <td>42.371290</td>\n",
       "      <td>13.688365</td>\n",
       "      <td>54.467389</td>\n",
       "      <td>20.069084</td>\n",
       "      <td>9.259435</td>\n",
       "      <td>50.713844</td>\n",
       "      <td>19.922625</td>\n",
       "      <td>4.310668</td>\n",
       "      <td>50.573847</td>\n",
       "      <td>19.568609</td>\n",
       "      <td>2.275873</td>\n",
       "      <td>2.791840</td>\n",
       "      <td>2.461214</td>\n",
       "      <td>0.753773</td>\n",
       "      <td>1.315491</td>\n",
       "    </tr>\n",
       "    <tr>\n",
       "      <th>min</th>\n",
       "      <td>1.000000</td>\n",
       "      <td>408.000000</td>\n",
       "      <td>0.000000</td>\n",
       "      <td>0.000000</td>\n",
       "      <td>0.000000</td>\n",
       "      <td>0.000000</td>\n",
       "      <td>0.000000</td>\n",
       "      <td>0.000000</td>\n",
       "      <td>0.000000</td>\n",
       "      <td>23.200000</td>\n",
       "      <td>33.000000</td>\n",
       "      <td>1.040000</td>\n",
       "      <td>0.000000</td>\n",
       "      <td>0.000000</td>\n",
       "      <td>0.000000</td>\n",
       "      <td>0.000000</td>\n",
       "    </tr>\n",
       "    <tr>\n",
       "      <th>25%</th>\n",
       "      <td>74.000000</td>\n",
       "      <td>408.000000</td>\n",
       "      <td>0.000000</td>\n",
       "      <td>143.700000</td>\n",
       "      <td>87.000000</td>\n",
       "      <td>24.430000</td>\n",
       "      <td>166.600000</td>\n",
       "      <td>87.000000</td>\n",
       "      <td>14.160000</td>\n",
       "      <td>167.000000</td>\n",
       "      <td>87.000000</td>\n",
       "      <td>7.520000</td>\n",
       "      <td>8.500000</td>\n",
       "      <td>3.000000</td>\n",
       "      <td>2.300000</td>\n",
       "      <td>1.000000</td>\n",
       "    </tr>\n",
       "    <tr>\n",
       "      <th>50%</th>\n",
       "      <td>101.000000</td>\n",
       "      <td>415.000000</td>\n",
       "      <td>0.000000</td>\n",
       "      <td>179.400000</td>\n",
       "      <td>101.000000</td>\n",
       "      <td>30.500000</td>\n",
       "      <td>201.400000</td>\n",
       "      <td>100.000000</td>\n",
       "      <td>17.120000</td>\n",
       "      <td>201.200000</td>\n",
       "      <td>100.000000</td>\n",
       "      <td>9.050000</td>\n",
       "      <td>10.300000</td>\n",
       "      <td>4.000000</td>\n",
       "      <td>2.780000</td>\n",
       "      <td>1.000000</td>\n",
       "    </tr>\n",
       "    <tr>\n",
       "      <th>75%</th>\n",
       "      <td>127.000000</td>\n",
       "      <td>510.000000</td>\n",
       "      <td>20.000000</td>\n",
       "      <td>216.400000</td>\n",
       "      <td>114.000000</td>\n",
       "      <td>36.790000</td>\n",
       "      <td>235.300000</td>\n",
       "      <td>114.000000</td>\n",
       "      <td>20.000000</td>\n",
       "      <td>235.300000</td>\n",
       "      <td>113.000000</td>\n",
       "      <td>10.590000</td>\n",
       "      <td>12.100000</td>\n",
       "      <td>6.000000</td>\n",
       "      <td>3.270000</td>\n",
       "      <td>2.000000</td>\n",
       "    </tr>\n",
       "    <tr>\n",
       "      <th>max</th>\n",
       "      <td>243.000000</td>\n",
       "      <td>510.000000</td>\n",
       "      <td>51.000000</td>\n",
       "      <td>350.800000</td>\n",
       "      <td>165.000000</td>\n",
       "      <td>59.640000</td>\n",
       "      <td>363.700000</td>\n",
       "      <td>170.000000</td>\n",
       "      <td>30.910000</td>\n",
       "      <td>395.000000</td>\n",
       "      <td>175.000000</td>\n",
       "      <td>17.770000</td>\n",
       "      <td>20.000000</td>\n",
       "      <td>20.000000</td>\n",
       "      <td>5.400000</td>\n",
       "      <td>9.000000</td>\n",
       "    </tr>\n",
       "  </tbody>\n",
       "</table>\n",
       "</div>"
      ],
      "text/plain": [
       "       account length    area code  number vmail messages  total day minutes  \\\n",
       "count     3333.000000  3333.000000            3333.000000        3333.000000   \n",
       "mean       101.064806   437.182418               8.099010         179.775098   \n",
       "std         39.822106    42.371290              13.688365          54.467389   \n",
       "min          1.000000   408.000000               0.000000           0.000000   \n",
       "25%         74.000000   408.000000               0.000000         143.700000   \n",
       "50%        101.000000   415.000000               0.000000         179.400000   \n",
       "75%        127.000000   510.000000              20.000000         216.400000   \n",
       "max        243.000000   510.000000              51.000000         350.800000   \n",
       "\n",
       "       total day calls  total day charge  total eve minutes  total eve calls  \\\n",
       "count      3333.000000       3333.000000        3333.000000      3333.000000   \n",
       "mean        100.435644         30.562307         200.980348       100.114311   \n",
       "std          20.069084          9.259435          50.713844        19.922625   \n",
       "min           0.000000          0.000000           0.000000         0.000000   \n",
       "25%          87.000000         24.430000         166.600000        87.000000   \n",
       "50%         101.000000         30.500000         201.400000       100.000000   \n",
       "75%         114.000000         36.790000         235.300000       114.000000   \n",
       "max         165.000000         59.640000         363.700000       170.000000   \n",
       "\n",
       "       total eve charge  total night minutes  total night calls  \\\n",
       "count       3333.000000          3333.000000        3333.000000   \n",
       "mean          17.083540           200.872037         100.107711   \n",
       "std            4.310668            50.573847          19.568609   \n",
       "min            0.000000            23.200000          33.000000   \n",
       "25%           14.160000           167.000000          87.000000   \n",
       "50%           17.120000           201.200000         100.000000   \n",
       "75%           20.000000           235.300000         113.000000   \n",
       "max           30.910000           395.000000         175.000000   \n",
       "\n",
       "       total night charge  total intl minutes  total intl calls  \\\n",
       "count         3333.000000         3333.000000       3333.000000   \n",
       "mean             9.039325           10.237294          4.479448   \n",
       "std              2.275873            2.791840          2.461214   \n",
       "min              1.040000            0.000000          0.000000   \n",
       "25%              7.520000            8.500000          3.000000   \n",
       "50%              9.050000           10.300000          4.000000   \n",
       "75%             10.590000           12.100000          6.000000   \n",
       "max             17.770000           20.000000         20.000000   \n",
       "\n",
       "       total intl charge  customer service calls  \n",
       "count        3333.000000             3333.000000  \n",
       "mean            2.764581                1.562856  \n",
       "std             0.753773                1.315491  \n",
       "min             0.000000                0.000000  \n",
       "25%             2.300000                1.000000  \n",
       "50%             2.780000                1.000000  \n",
       "75%             3.270000                2.000000  \n",
       "max             5.400000                9.000000  "
      ]
     },
     "execution_count": 5,
     "metadata": {},
     "output_type": "execute_result"
    }
   ],
   "source": [
    "#Get data set\n",
    "\n",
    "df.describe()"
   ]
  },
  {
   "cell_type": "code",
   "execution_count": 6,
   "metadata": {},
   "outputs": [
    {
     "data": {
      "text/plain": [
       "False    2850\n",
       "True      483\n",
       "Name: churn, dtype: int64"
      ]
     },
     "execution_count": 6,
     "metadata": {},
     "output_type": "execute_result"
    }
   ],
   "source": [
    "#Famliarizing with Target Variable\n",
    "\n",
    "df['churn'].value_counts()"
   ]
  },
  {
   "cell_type": "code",
   "execution_count": 7,
   "metadata": {},
   "outputs": [
    {
     "data": {
      "text/plain": [
       "False    0.855086\n",
       "True     0.144914\n",
       "Name: churn, dtype: float64"
      ]
     },
     "execution_count": 7,
     "metadata": {},
     "output_type": "execute_result"
    }
   ],
   "source": [
    "#Further investigation of target variable\n",
    "\n",
    "df['churn'].value_counts(normalize = True)"
   ]
  },
  {
   "cell_type": "code",
   "execution_count": 8,
   "metadata": {},
   "outputs": [],
   "source": [
    "from sklearn.model_selection import train_test_split\n",
    "\n",
    "#Define X & Y\n",
    "\n",
    "X = df.drop('churn', axis = 1)\n",
    "y = df['churn']\n",
    "\n",
    "#Train Test Split\n",
    "\n",
    "X_train, X_test, y_train, y_test = train_test_split(X, y, test_size=0.15, random_state=42)"
   ]
  },
  {
   "cell_type": "code",
   "execution_count": 9,
   "metadata": {},
   "outputs": [
    {
     "name": "stdout",
     "output_type": "stream",
     "text": [
      "Numeric Columns: \n",
      "['account length', 'area code', 'number vmail messages', 'total day minutes', 'total day calls', 'total day charge', 'total eve minutes', 'total eve calls', 'total eve charge', 'total night minutes', 'total night calls', 'total night charge', 'total intl minutes', 'total intl calls', 'total intl charge', 'customer service calls']\n",
      "==\n",
      "OHE Columns: \n",
      "['international plan', 'voice mail plan']\n",
      "==\n",
      "Categorical Columns that will not OHE: \n",
      "['state', 'phone number']\n"
     ]
    }
   ],
   "source": [
    "#Get numeric cols, categorical cols, and cols to frequency\n",
    "\n",
    "#taken from: https://github.com/flatiron-school/Online-DS-PT-022221/blob/main/Phase3/complete_notebooks/32-Pipelines_complete.ipynb\n",
    "\n",
    "num_cols = []\n",
    "cols_to_ohe = []\n",
    "cols_to_freq = []\n",
    "\n",
    "for c in X_train.columns:\n",
    "    # Want to grab numeric columns\n",
    "    if X_train[c].dtype in ['float64', 'int64']:\n",
    "        # same as if X_train[c].dtype == 'float64'\n",
    "        num_cols.append(c)\n",
    "\n",
    "    # Then grab columns with fewer than 10 unique values\n",
    "    elif len(X_train[c].unique()) < 10:\n",
    "        cols_to_ohe.append(c)\n",
    "\n",
    "    # Then grab columns with more than 10, since we won't OHE those\n",
    "    else:\n",
    "        cols_to_freq.append(c)\n",
    "        \n",
    "print(f'Numeric Columns: ')\n",
    "print(num_cols)\n",
    "print(f'==')\n",
    "\n",
    "print(f'OHE Columns: ')\n",
    "print(cols_to_ohe)\n",
    "print(f'==')\n",
    "\n",
    "print(f'Categorical Columns that will not OHE: ')\n",
    "print(cols_to_freq)"
   ]
  },
  {
   "cell_type": "code",
   "execution_count": 10,
   "metadata": {},
   "outputs": [],
   "source": [
    "#Creating Pre Processing Pipeline\n",
    "\n",
    "from sklearn.pipeline import Pipeline\n",
    "from sklearn.compose import ColumnTransformer\n",
    "from sklearn.impute import SimpleImputer\n",
    "from sklearn.preprocessing import MinMaxScaler, OneHotEncoder\n",
    "import category_encoders as ce\n",
    "\n",
    "\n",
    "#Sourced From: https://github.com/flatiron-school/Online-DS-PT-022221/blob/main/Phase3/complete_notebooks/32-Pipelines_complete.ipynb\n",
    "\n",
    "# Numerical Pre Processing Steps:\n",
    "\n",
    "num_transformer = Pipeline(steps=[\n",
    "    ('num_imputer', SimpleImputer(strategy='mean')),\n",
    "    ('scaler', MinMaxScaler())])\n",
    "\n",
    "#OHE Pre processing Steps:\n",
    "\n",
    "ohe_transformer = Pipeline(steps=[\n",
    "    ('ohe_imputer', SimpleImputer(strategy='constant', fill_value='Unknown')),\n",
    "    ('ohencoder', OneHotEncoder(handle_unknown='ignore'))])\n",
    "\n",
    "# Frequency Columns Pre processing Steps:\n",
    "\n",
    "freq_transformer = Pipeline(steps=[\n",
    "    ('freq_imputer', SimpleImputer(strategy='constant', fill_value='Unknown')),\n",
    "    ('freq_enc', ce.count.CountEncoder(normalize=True, \n",
    "                                       handle_unknown=0,\n",
    "                                       min_group_size=0.001,\n",
    "                                       min_group_name='Other'))])\n",
    "\n",
    "#Put all Processing Steps together in Columntransformer\n",
    "\n",
    "preprocessor = ColumnTransformer(\n",
    "    transformers=[\n",
    "        ('num', num_transformer, num_cols),\n",
    "        ('ohe', ohe_transformer, cols_to_ohe),\n",
    "        ('freq', freq_transformer, cols_to_freq)])"
   ]
  },
  {
   "cell_type": "code",
   "execution_count": 11,
   "metadata": {},
   "outputs": [],
   "source": [
    "#Fit preprocessor to X_Train data\n",
    "\n",
    "X_train_proc = pd.DataFrame(preprocessor.fit_transform(X_train))"
   ]
  },
  {
   "cell_type": "code",
   "execution_count": 12,
   "metadata": {},
   "outputs": [],
   "source": [
    "#Get feature names from processor\n",
    "\n",
    "#Sourced from: https://johaupt.github.io/scikit-learn/tutorial/python/data%20processing/ml%20pipeline/model%20interpretation/columnTransformer_feature_names.html\n",
    "\n",
    "import warnings\n",
    "import sklearn\n",
    "import pandas as pd\n",
    "\n",
    "def get_feature_names(column_transformer):\n",
    "    \"\"\"Get feature names from all transformers.\n",
    "    Returns\n",
    "    -------\n",
    "    feature_names : list of strings\n",
    "        Names of the features produced by transform.\n",
    "    \"\"\"\n",
    "    # Remove the internal helper function\n",
    "    #check_is_fitted(column_transformer)\n",
    "    \n",
    "    # Turn loopkup into function for better handling with pipeline later\n",
    "    def get_names(trans):\n",
    "        # >> Original get_feature_names() method\n",
    "        if trans == 'drop' or (\n",
    "                hasattr(column, '__len__') and not len(column)):\n",
    "            return []\n",
    "        if trans == 'passthrough':\n",
    "            if hasattr(column_transformer, '_df_columns'):\n",
    "                if ((not isinstance(column, slice))\n",
    "                        and all(isinstance(col, str) for col in column)):\n",
    "                    return column\n",
    "                else:\n",
    "                    return column_transformer._df_columns[column]\n",
    "            else:\n",
    "                indices = np.arange(column_transformer._n_features)\n",
    "                return ['x%d' % i for i in indices[column]]\n",
    "        if not hasattr(trans, 'get_feature_names'):\n",
    "        # >>> Change: Return input column names if no method avaiable\n",
    "            # Turn error into a warning\n",
    "            warnings.warn(\"Transformer %s (type %s) does not \"\n",
    "                                 \"provide get_feature_names. \"\n",
    "                                 \"Will return input column names if available\"\n",
    "                                 % (str(name), type(trans).__name__))\n",
    "            # For transformers without a get_features_names method, use the input\n",
    "            # names to the column transformer\n",
    "            if column is None:\n",
    "                return []\n",
    "            else:\n",
    "                return [name + \"__\" + f for f in column]\n",
    "\n",
    "        return [name + \"__\" + f for f in trans.get_feature_names()]\n",
    "    \n",
    "    ### Start of processing\n",
    "    feature_names = []\n",
    "    \n",
    "    # Allow transformers to be pipelines. Pipeline steps are named differently, so preprocessing is needed\n",
    "    if type(column_transformer) == sklearn.pipeline.Pipeline:\n",
    "        l_transformers = [(name, trans, None, None) for step, name, trans in column_transformer._iter()]\n",
    "    else:\n",
    "        # For column transformers, follow the original method\n",
    "        l_transformers = list(column_transformer._iter(fitted=True))\n",
    "    \n",
    "    \n",
    "    for name, trans, column, _ in l_transformers: \n",
    "        if type(trans) == sklearn.pipeline.Pipeline:\n",
    "            # Recursive call on pipeline\n",
    "            _names = get_feature_names(trans)\n",
    "            # if pipeline has no transformer that returns names\n",
    "            if len(_names)==0:\n",
    "                _names = [name + \"__\" + f for f in column]\n",
    "            feature_names.extend(_names)\n",
    "        else:\n",
    "            feature_names.extend(get_names(trans))\n",
    "    \n",
    "    return feature_names"
   ]
  },
  {
   "cell_type": "code",
   "execution_count": 13,
   "metadata": {},
   "outputs": [
    {
     "name": "stderr",
     "output_type": "stream",
     "text": [
      "<ipython-input-12-0d499a1f2f22>:38: UserWarning: Transformer num_imputer (type SimpleImputer) does not provide get_feature_names. Will return input column names if available\n",
      "  warnings.warn(\"Transformer %s (type %s) does not \"\n",
      "<ipython-input-12-0d499a1f2f22>:38: UserWarning: Transformer scaler (type MinMaxScaler) does not provide get_feature_names. Will return input column names if available\n",
      "  warnings.warn(\"Transformer %s (type %s) does not \"\n",
      "<ipython-input-12-0d499a1f2f22>:38: UserWarning: Transformer ohe_imputer (type SimpleImputer) does not provide get_feature_names. Will return input column names if available\n",
      "  warnings.warn(\"Transformer %s (type %s) does not \"\n",
      "<ipython-input-12-0d499a1f2f22>:38: UserWarning: Transformer freq_imputer (type SimpleImputer) does not provide get_feature_names. Will return input column names if available\n",
      "  warnings.warn(\"Transformer %s (type %s) does not \"\n",
      "<ipython-input-12-0d499a1f2f22>:38: UserWarning: Transformer freq_enc (type CountEncoder) does not provide get_feature_names. Will return input column names if available\n",
      "  warnings.warn(\"Transformer %s (type %s) does not \"\n"
     ]
    }
   ],
   "source": [
    "#Get feature names of preprocessor\n",
    "\n",
    "processed_feature_names = get_feature_names(preprocessor)\n",
    "\n",
    "#Assign column names to preprocessed X_train_cols\n",
    "\n",
    "X_train_proc.columns = processed_feature_names\n",
    "\n",
    "#transform X_test\n",
    "\n",
    "X_test_proc = pd.DataFrame(preprocessor.transform(X_test))"
   ]
  },
  {
   "cell_type": "code",
   "execution_count": 14,
   "metadata": {},
   "outputs": [],
   "source": [
    "#Get Metrics for Classifier Model Types:\n",
    "\n",
    "from sklearn.tree import DecisionTreeClassifier\n",
    "from sklearn.ensemble import RandomForestClassifier\n",
    "from sklearn.tree import DecisionTreeRegressor\n",
    "from sklearn.neighbors import KNeighborsClassifier\n",
    "from sklearn.linear_model import LogisticRegression\n",
    "from sklearn.svm import SVC\n",
    "\n",
    "def multi_model_analysis(models, weight):\n",
    "    \n",
    "    classifier = []\n",
    "    precision = []\n",
    "    recall = []\n",
    "    accuracy = []\n",
    "    f1 = []\n",
    "    \n",
    "    # Class Weight Models\n",
    "    \n",
    "    def get_weighted_model_metrics(reg, weight, X_train_proc, y_train, X_test_proc, y_test):\n",
    "\n",
    "        from sklearn.metrics import precision_score, recall_score, accuracy_score, f1_score    \n",
    "\n",
    "        model = reg(class_weight = weight)\n",
    "\n",
    "        model.fit(X_train_proc, y_train)\n",
    "\n",
    "        model_pred_train = model.predict(X_train_proc)\n",
    "\n",
    "        model_pred_test = model.predict(X_test_proc)\n",
    "\n",
    "        #Get Evaluation Metrics for DTC Train Set:\n",
    "\n",
    "        model_train_precision = precision_score(model_pred_train, y_train)\n",
    "        model_train_recall = recall_score(model_pred_train, y_train)\n",
    "        model_train_accuracy = accuracy_score(model_pred_train, y_train)\n",
    "        model_train_f1 = f1_score(model_pred_train, y_train)\n",
    "\n",
    "        #Get Evaluation Metrics for DTC Test Set:\n",
    "\n",
    "        model_test_precision = precision_score(model_pred_test, y_test)\n",
    "        model_test_recall = recall_score(model_pred_test, y_test)\n",
    "        model_test_accuracy = accuracy_score(model_pred_test, y_test)\n",
    "        model_test_f1 = f1_score(model_pred_test, y_test)\n",
    "        \n",
    "        classifier.append(reg)\n",
    "        precision.append(model_test_precision)\n",
    "        recall.append(model_test_recall)\n",
    "        accuracy.append(model_test_accuracy)\n",
    "        f1.append(model_test_f1)\n",
    "    \n",
    "    #Non Class Weight Models\n",
    "        \n",
    "    def get_model_metrics(reg, X_train_proc, y_train, X_test_proc, y_test):\n",
    "\n",
    "        from sklearn.metrics import precision_score, recall_score, accuracy_score, f1_score    \n",
    "\n",
    "        model = reg()\n",
    "\n",
    "        model.fit(X_train_proc, y_train)\n",
    "\n",
    "        model_pred_train = model.predict(X_train_proc)\n",
    "\n",
    "        model_pred_test = model.predict(X_test_proc)\n",
    "\n",
    "        #Get Evaluation Metrics for DTC Train Set:\n",
    "\n",
    "        model_train_precision = precision_score(model_pred_train, y_train)\n",
    "        model_train_recall = recall_score(model_pred_train, y_train)\n",
    "        model_train_accuracy = accuracy_score(model_pred_train, y_train)\n",
    "        model_train_f1 = f1_score(model_pred_train, y_train)\n",
    "\n",
    "        #Get Evaluation Metrics for DTC Test Set:\n",
    "\n",
    "        model_test_precision = precision_score(model_pred_test, y_test)\n",
    "        model_test_recall = recall_score(model_pred_test, y_test)\n",
    "        model_test_accuracy = accuracy_score(model_pred_test, y_test)\n",
    "        model_test_f1 = f1_score(model_pred_test, y_test)\n",
    "        \n",
    "        classifier.append(reg)\n",
    "        precision.append(model_test_precision)\n",
    "        recall.append(model_test_recall)\n",
    "        accuracy.append(model_test_accuracy)\n",
    "        f1.append(model_test_f1)\n",
    "    \n",
    "    for item in models:\n",
    "        if item in [DecisionTreeClassifier, RandomForestClassifier, LogisticRegression, SVC]:\n",
    "            get_weighted_model_metrics(item, weight, X_train_proc, y_train, X_test_proc, y_test)\n",
    "        else:\n",
    "            get_model_metrics(item, X_train_proc, y_train, X_test_proc, y_test)\n",
    "        \n",
    "    metrics_df = pd.concat([pd.DataFrame(classifier), pd.DataFrame(precision), pd.DataFrame(recall), pd.DataFrame(accuracy),\n",
    "              pd.DataFrame(f1)], axis = 1)\n",
    "    \n",
    "    metrics_df.columns = ['Classifier Model', 'Precision', 'Recall', 'Accuracy', 'F1']\n",
    "    \n",
    "    metrics_df.sort_values(by = 'F1', inplace = True, ascending = True)\n",
    "    \n",
    "    metrics_df.plot(x ='Classifier Model', y=['Precision', 'Recall', 'Accuracy', 'F1'], kind = 'barh',\n",
    "                   figsize = (15, 10))\n",
    "    \n",
    "    plt.axvline(0.8, 0, 1, color = 'red')\n",
    "    plt.title('Model Analysis Ranked by F1')\n",
    "\n",
    "    \n",
    "    return metrics_df"
   ]
  },
  {
   "cell_type": "code",
   "execution_count": 15,
   "metadata": {},
   "outputs": [
    {
     "data": {
      "text/html": [
       "<div>\n",
       "<style scoped>\n",
       "    .dataframe tbody tr th:only-of-type {\n",
       "        vertical-align: middle;\n",
       "    }\n",
       "\n",
       "    .dataframe tbody tr th {\n",
       "        vertical-align: top;\n",
       "    }\n",
       "\n",
       "    .dataframe thead th {\n",
       "        text-align: right;\n",
       "    }\n",
       "</style>\n",
       "<table border=\"1\" class=\"dataframe\">\n",
       "  <thead>\n",
       "    <tr style=\"text-align: right;\">\n",
       "      <th></th>\n",
       "      <th>Classifier Model</th>\n",
       "      <th>Precision</th>\n",
       "      <th>Recall</th>\n",
       "      <th>Accuracy</th>\n",
       "      <th>F1</th>\n",
       "    </tr>\n",
       "  </thead>\n",
       "  <tbody>\n",
       "    <tr>\n",
       "      <th>2</th>\n",
       "      <td>&lt;class 'sklearn.linear_model._logistic.Logisti...</td>\n",
       "      <td>0.166667</td>\n",
       "      <td>0.590909</td>\n",
       "      <td>0.852</td>\n",
       "      <td>0.260000</td>\n",
       "    </tr>\n",
       "    <tr>\n",
       "      <th>3</th>\n",
       "      <td>&lt;class 'sklearn.svm._classes.SVC'&gt;</td>\n",
       "      <td>0.333333</td>\n",
       "      <td>0.838710</td>\n",
       "      <td>0.886</td>\n",
       "      <td>0.477064</td>\n",
       "    </tr>\n",
       "    <tr>\n",
       "      <th>5</th>\n",
       "      <td>&lt;class 'sklearn.neighbors._classification.KNei...</td>\n",
       "      <td>0.346154</td>\n",
       "      <td>0.843750</td>\n",
       "      <td>0.888</td>\n",
       "      <td>0.490909</td>\n",
       "    </tr>\n",
       "    <tr>\n",
       "      <th>0</th>\n",
       "      <td>&lt;class 'sklearn.tree._classes.DecisionTreeClas...</td>\n",
       "      <td>0.756410</td>\n",
       "      <td>0.662921</td>\n",
       "      <td>0.902</td>\n",
       "      <td>0.706587</td>\n",
       "    </tr>\n",
       "    <tr>\n",
       "      <th>4</th>\n",
       "      <td>&lt;class 'sklearn.tree._classes.DecisionTreeRegr...</td>\n",
       "      <td>0.756410</td>\n",
       "      <td>0.662921</td>\n",
       "      <td>0.902</td>\n",
       "      <td>0.706587</td>\n",
       "    </tr>\n",
       "    <tr>\n",
       "      <th>1</th>\n",
       "      <td>&lt;class 'sklearn.ensemble._forest.RandomForestC...</td>\n",
       "      <td>0.730769</td>\n",
       "      <td>0.966102</td>\n",
       "      <td>0.954</td>\n",
       "      <td>0.832117</td>\n",
       "    </tr>\n",
       "  </tbody>\n",
       "</table>\n",
       "</div>"
      ],
      "text/plain": [
       "                                    Classifier Model  Precision    Recall  \\\n",
       "2  <class 'sklearn.linear_model._logistic.Logisti...   0.166667  0.590909   \n",
       "3                 <class 'sklearn.svm._classes.SVC'>   0.333333  0.838710   \n",
       "5  <class 'sklearn.neighbors._classification.KNei...   0.346154  0.843750   \n",
       "0  <class 'sklearn.tree._classes.DecisionTreeClas...   0.756410  0.662921   \n",
       "4  <class 'sklearn.tree._classes.DecisionTreeRegr...   0.756410  0.662921   \n",
       "1  <class 'sklearn.ensemble._forest.RandomForestC...   0.730769  0.966102   \n",
       "\n",
       "   Accuracy        F1  \n",
       "2     0.852  0.260000  \n",
       "3     0.886  0.477064  \n",
       "5     0.888  0.490909  \n",
       "0     0.902  0.706587  \n",
       "4     0.902  0.706587  \n",
       "1     0.954  0.832117  "
      ]
     },
     "execution_count": 15,
     "metadata": {},
     "output_type": "execute_result"
    },
    {
     "data": {
      "image/png": "[encoded data removed]",
      "text/plain": [
       "<Figure size 1080x720 with 1 Axes>"
      ]
     },
     "metadata": {
      "needs_background": "light"
     },
     "output_type": "display_data"
    }
   ],
   "source": [
    "#Test All Models\n",
    "\n",
    "models = [DecisionTreeClassifier, RandomForestClassifier, LogisticRegression, SVC, DecisionTreeRegressor,\n",
    "          KNeighborsClassifier]\n",
    "\n",
    "multi_model_analysis(models, None)"
   ]
  },
  {
   "cell_type": "markdown",
   "metadata": {},
   "source": [
    "## Initial Multi Model Findings\n",
    "\n",
    "1. The highest F1 scores come from Decision Tree Classifiers and Decission Tree Regression\n",
    "2. Random Forest Metrics are showing very promising Accuracy and Recall, however Precision is very low\n",
    "3. Scores may be improved accross all models by first solving for the Class Imbalance\n",
    "\n",
    "### Check Class Weight Imbalance\n",
    "\n",
    "1. Multi Model Check will be run with Class Weight Imbalanced rectified"
   ]
  },
  {
   "cell_type": "code",
   "execution_count": 16,
   "metadata": {},
   "outputs": [
    {
     "data": {
      "text/html": [
       "<div>\n",
       "<style scoped>\n",
       "    .dataframe tbody tr th:only-of-type {\n",
       "        vertical-align: middle;\n",
       "    }\n",
       "\n",
       "    .dataframe tbody tr th {\n",
       "        vertical-align: top;\n",
       "    }\n",
       "\n",
       "    .dataframe thead th {\n",
       "        text-align: right;\n",
       "    }\n",
       "</style>\n",
       "<table border=\"1\" class=\"dataframe\">\n",
       "  <thead>\n",
       "    <tr style=\"text-align: right;\">\n",
       "      <th></th>\n",
       "      <th>Classifier Model</th>\n",
       "      <th>Precision</th>\n",
       "      <th>Recall</th>\n",
       "      <th>Accuracy</th>\n",
       "      <th>F1</th>\n",
       "    </tr>\n",
       "  </thead>\n",
       "  <tbody>\n",
       "    <tr>\n",
       "      <th>5</th>\n",
       "      <td>&lt;class 'sklearn.neighbors._classification.KNei...</td>\n",
       "      <td>0.346154</td>\n",
       "      <td>0.843750</td>\n",
       "      <td>0.888</td>\n",
       "      <td>0.490909</td>\n",
       "    </tr>\n",
       "    <tr>\n",
       "      <th>2</th>\n",
       "      <td>&lt;class 'sklearn.linear_model._logistic.Logisti...</td>\n",
       "      <td>0.756410</td>\n",
       "      <td>0.380645</td>\n",
       "      <td>0.770</td>\n",
       "      <td>0.506438</td>\n",
       "    </tr>\n",
       "    <tr>\n",
       "      <th>3</th>\n",
       "      <td>&lt;class 'sklearn.svm._classes.SVC'&gt;</td>\n",
       "      <td>0.884615</td>\n",
       "      <td>0.570248</td>\n",
       "      <td>0.878</td>\n",
       "      <td>0.693467</td>\n",
       "    </tr>\n",
       "    <tr>\n",
       "      <th>4</th>\n",
       "      <td>&lt;class 'sklearn.tree._classes.DecisionTreeRegr...</td>\n",
       "      <td>0.743590</td>\n",
       "      <td>0.690476</td>\n",
       "      <td>0.908</td>\n",
       "      <td>0.716049</td>\n",
       "    </tr>\n",
       "    <tr>\n",
       "      <th>0</th>\n",
       "      <td>&lt;class 'sklearn.tree._classes.DecisionTreeClas...</td>\n",
       "      <td>0.794872</td>\n",
       "      <td>0.784810</td>\n",
       "      <td>0.934</td>\n",
       "      <td>0.789809</td>\n",
       "    </tr>\n",
       "    <tr>\n",
       "      <th>1</th>\n",
       "      <td>&lt;class 'sklearn.ensemble._forest.RandomForestC...</td>\n",
       "      <td>0.717949</td>\n",
       "      <td>0.982456</td>\n",
       "      <td>0.954</td>\n",
       "      <td>0.829630</td>\n",
       "    </tr>\n",
       "  </tbody>\n",
       "</table>\n",
       "</div>"
      ],
      "text/plain": [
       "                                    Classifier Model  Precision    Recall  \\\n",
       "5  <class 'sklearn.neighbors._classification.KNei...   0.346154  0.843750   \n",
       "2  <class 'sklearn.linear_model._logistic.Logisti...   0.756410  0.380645   \n",
       "3                 <class 'sklearn.svm._classes.SVC'>   0.884615  0.570248   \n",
       "4  <class 'sklearn.tree._classes.DecisionTreeRegr...   0.743590  0.690476   \n",
       "0  <class 'sklearn.tree._classes.DecisionTreeClas...   0.794872  0.784810   \n",
       "1  <class 'sklearn.ensemble._forest.RandomForestC...   0.717949  0.982456   \n",
       "\n",
       "   Accuracy        F1  \n",
       "5     0.888  0.490909  \n",
       "2     0.770  0.506438  \n",
       "3     0.878  0.693467  \n",
       "4     0.908  0.716049  \n",
       "0     0.934  0.789809  \n",
       "1     0.954  0.829630  "
      ]
     },
     "execution_count": 16,
     "metadata": {},
     "output_type": "execute_result"
    },
    {
     "data": {
      "image/png": "[encoded data removed]",
      "text/plain": [
       "<Figure size 1080x720 with 1 Axes>"
      ]
     },
     "metadata": {
      "needs_background": "light"
     },
     "output_type": "display_data"
    }
   ],
   "source": [
    "multi_model_analysis(models, 'balanced')"
   ]
  },
  {
   "cell_type": "markdown",
   "metadata": {},
   "source": [
    "## Class Weight Analysis\n",
    "\n",
    "1. Random Forests yielded the greatest improvement in total F1\n",
    "2. Deision Tree Classifiers came in a close second\n",
    "3. Logistic Regression maintained a relatively low score\n",
    "\n",
    "### Next Steps:\n",
    "\n",
    "1. Run CV/Grid Search on Random Forest Classifier\n",
    "2. Determine feature importance\n"
   ]
  },
  {
   "cell_type": "code",
   "execution_count": 17,
   "metadata": {},
   "outputs": [],
   "source": [
    "# #Grid Search Parameters\n",
    "\n",
    "# # dt_param_grid = {\n",
    "# #     'criterion': ['gini', 'entropy'],\n",
    "# #     'max_depth': [None, 2, 3, 4, 5, 6],\n",
    "# #     'min_samples_split': [2, 5, 10],\n",
    "# #     'min_samples_leaf': [1, 2, 3, 4, 5, 6]\n",
    "# # }\n",
    "\n",
    "# dt_param_grid = {\n",
    "#     'criterion': ['gini', 'entropy'],\n",
    "#     'max_depth': [None, 2, 3, 4, 5, 6],\n",
    "#     'min_samples_split': [ 2, 5, 10],\n",
    "#     'min_samples_leaf': [1, 2, 3, 4, 5, 6]\n",
    "# }\n",
    "\n",
    "# #Instantiate Grid Search CV\n",
    "\n",
    "# from sklearn.model_selection import GridSearchCV\n",
    "\n",
    "# grid = GridSearchCV(model, dt_param_grid, cv = 3, scoring = 'f1')\n",
    "\n",
    "# grid.fit(X_train_proc, y_train)\n",
    "\n"
   ]
  },
  {
   "cell_type": "code",
   "execution_count": 18,
   "metadata": {},
   "outputs": [
    {
     "name": "stdout",
     "output_type": "stream",
     "text": [
      "Best Metrics: criterion: entropy, max_depth: None, min_samples_leaf: 5, min_samples_split: 2\n"
     ]
    }
   ],
   "source": [
    "# #Evaluating Metrics from Gridsearch CV:\n",
    "\n",
    "# print(f'Best Score: {grid.best_score_}')\n",
    "\n",
    "# #Evaluating best\n",
    "\n",
    "# print(f'Best Parameters: {grid.best_params_}')\n",
    "\n",
    "print(f'Best Metrics: criterion: entropy, max_depth: None, min_samples_leaf: 5, min_samples_split: 2')"
   ]
  },
  {
   "cell_type": "code",
   "execution_count": 19,
   "metadata": {},
   "outputs": [
    {
     "name": "stdout",
     "output_type": "stream",
     "text": [
      "Random Forest Model Metrics:\n",
      "\n",
      "Model Test Precision: 0.8333333333333334\n",
      "Model Test Recall: 0.8666666666666667\n",
      "Model Test Accuracy: 0.954\n",
      "Model Test F1: 0.8496732026143791\n",
      "---\n",
      "---\n"
     ]
    },
    {
     "data": {
      "text/plain": [
       "<matplotlib.lines.Line2D at 0x7fc28893ee20>"
      ]
     },
     "execution_count": 19,
     "metadata": {},
     "output_type": "execute_result"
    },
    {
     "data": {
      "image/png": "[encoded data removed]",
      "text/plain": [
       "<Figure size 432x288 with 1 Axes>"
      ]
     },
     "metadata": {
      "needs_background": "light"
     },
     "output_type": "display_data"
    }
   ],
   "source": [
    "model = RandomForestClassifier(class_weight = 'balanced', \n",
    "                               criterion = 'entropy', \n",
    "                               max_depth = None, \n",
    "                               min_samples_leaf = 5, \n",
    "                               min_samples_split = 2)\n",
    "\n",
    "model.fit(X_train_proc, y_train)\n",
    "\n",
    "model_pred_train = model.predict(X_train_proc)\n",
    "\n",
    "model_pred_test = model.predict(X_test_proc)\n",
    "\n",
    "#Get Evaluation Metrics for DTC Train Set:\n",
    "\n",
    "model_train_precision = precision_score(model_pred_train, y_train)\n",
    "model_train_recall = recall_score(model_pred_train, y_train)\n",
    "model_train_accuracy = accuracy_score(model_pred_train, y_train)\n",
    "model_train_f1 = f1_score(model_pred_train, y_train)\n",
    "\n",
    "#Get Evaluation Metrics for DTC Test Set:\n",
    "\n",
    "model_test_precision = precision_score(model_pred_test, y_test)\n",
    "model_test_recall = recall_score(model_pred_test, y_test)\n",
    "model_test_accuracy = accuracy_score(model_pred_test, y_test)\n",
    "model_test_f1 = f1_score(model_pred_test, y_test)\n",
    "\n",
    "print(f'Random Forest Model Metrics:')\n",
    "print(f'')\n",
    "print(f'Model Test Precision: {model_test_precision}')\n",
    "print(f'Model Test Recall: {model_test_recall}')\n",
    "print(f'Model Test Accuracy: {model_test_accuracy}')\n",
    "print(f'Model Test F1: {model_test_f1}')\n",
    "print(f'---')\n",
    "print(f'---')\n",
    "\n",
    "metrics = ['Pecision', 'Recall', 'Accuracy', 'F1']\n",
    "scores = [model_test_precision, model_test_recall, model_test_accuracy, model_test_f1]\n",
    "\n",
    "plt.barh(metrics, scores)\n",
    "plt.title('Updated Random Forest Metrics with Grid Search')\n",
    "plt.axvline(0.8, 0, 1, color = 'red')\n",
    "\n"
   ]
  },
  {
   "cell_type": "markdown",
   "metadata": {},
   "source": [
    "## Grid Search CV Results\n",
    "\n",
    "Overall scoring has gone up significantly, with Accuracy hitting 95% and F1 increasing to 85%\n",
    "\n",
    "### Next Steps\n",
    "\n",
    "1. Determine Feature Importance\n",
    "2. Establish final steps of qualitative analysis\n"
   ]
  },
  {
   "cell_type": "code",
   "execution_count": 20,
   "metadata": {},
   "outputs": [
    {
     "data": {
      "text/plain": [
       "<BarContainer object of 22 artists>"
      ]
     },
     "execution_count": 20,
     "metadata": {},
     "output_type": "execute_result"
    },
    {
     "data": {
      "image/png": "[encoded data removed]",
      "text/plain": [
       "<Figure size 288x720 with 1 Axes>"
      ]
     },
     "metadata": {
      "needs_background": "light"
     },
     "output_type": "display_data"
    }
   ],
   "source": [
    "#Establish Feature Importance in a Dta Frame\n",
    "\n",
    "feature_by_importance = pd.concat([pd.DataFrame(X_train_proc.columns), pd.DataFrame(model.feature_importances_)], \n",
    "                                  axis = 1)\n",
    "\n",
    "feature_by_importance.columns = ['Feature', 'Importance']\n",
    "\n",
    "feature_by_importance.sort_values(by='Importance', ascending = True, inplace = True)\n",
    "\n",
    "plot = plt.figure()\n",
    "plot.set_figwidth(4)\n",
    "plot.set_figheight(10)\n",
    "\n",
    "plt.title('Feature Importances')\n",
    "\n",
    "plt.barh(feature_by_importance['Feature'],\n",
    "         feature_by_importance['Importance'])"
   ]
  },
  {
   "cell_type": "markdown",
   "metadata": {},
   "source": [
    "## Feature Importance Results\n",
    "\n",
    "1. Top features include Customer Service Calls, Total Day Minutes, Total Day Charge, Total Night Minutes, Total Night Charge\n",
    "\n",
    "2. It appears that the most active, high frequency users are most likely to churn out\n",
    "\n",
    "### Next Steps\n",
    "\n",
    "1. Establish average usage and point in which users are most likely to churn"
   ]
  },
  {
   "cell_type": "code",
   "execution_count": 21,
   "metadata": {},
   "outputs": [
    {
     "name": "stdout",
     "output_type": "stream",
     "text": [
      "Mean of Customer Service Calls For Non Churners: 1.4498245614035088\n",
      "Standard Deviation of Customer Service Calls: 1.3152936866709521\n",
      "Mean of Customer Service Calls for Churners: 2.229813664596273\n"
     ]
    }
   ],
   "source": [
    "#Service Calls Analysis\n",
    "\n",
    "cust_service_calls_mean = np.mean(df['customer service calls'])\n",
    "\n",
    "cust_service_calls_sd = np.std(df['customer service calls'])\n",
    "\n",
    "non_churn_cust_service_calls_mean = np.mean(df[df['churn'] == 0]['customer service calls'])\n",
    "\n",
    "churn_cust_service_calls_mean = np.mean(df[df['churn'] == 1]['customer service calls'])\n",
    "\n",
    "print(f'Mean of Customer Service Calls For Non Churners: {non_churn_cust_service_calls_mean}')\n",
    "print(f'Standard Deviation of Customer Service Calls: {cust_service_calls_sd}')\n",
    "print(f'Mean of Customer Service Calls for Churners: {churn_cust_service_calls_mean}')"
   ]
  },
  {
   "cell_type": "code",
   "execution_count": 22,
   "metadata": {},
   "outputs": [
    {
     "name": "stdout",
     "output_type": "stream",
     "text": [
      "Mean of total day minutes Non Churners: 175.1757543859649\n",
      "Standard Deviation of total day minutes: 54.45921766392581\n",
      "Mean of total day minutes for Churners: 206.91407867494823\n"
     ]
    }
   ],
   "source": [
    "#Day Time Minutes Analysis\n",
    "\n",
    "day_miniutes_mean = np.mean(df['total day minutes'])\n",
    "\n",
    "day_minutes_sd = np.std(df['total day minutes'])\n",
    "\n",
    "non_churn_day_minutes_mean = np.mean(df[df['churn'] == 0]['total day minutes'])\n",
    "\n",
    "churn_day_minutes_mean = np.mean(df[df['churn'] == 1]['total day minutes'])\n",
    "\n",
    "print(f'Mean of total day minutes Non Churners: {non_churn_day_minutes_mean}')\n",
    "print(f'Standard Deviation of total day minutes: {day_minutes_sd}')\n",
    "print(f'Mean of total day minutes for Churners: {churn_day_minutes_mean}')"
   ]
  },
  {
   "cell_type": "code",
   "execution_count": 23,
   "metadata": {},
   "outputs": [
    {
     "name": "stdout",
     "output_type": "stream",
     "text": [
      "Mean of total day minutes Non Churners: 29.780421052631578\n",
      "Standard Deviation of total day minutes: 9.258045395636893\n",
      "Mean of total day minutes for Churners: 35.17592132505176\n"
     ]
    }
   ],
   "source": [
    "#Day Time Minutes Analysis\n",
    "\n",
    "day_charge_mean = np.mean(df['total day charge'])\n",
    "\n",
    "day_charge_sd = np.std(df['total day charge'])\n",
    "\n",
    "non_churn_day_charge_mean = np.mean(df[df['churn'] == 0]['total day charge'])\n",
    "\n",
    "churn_day_charge_mean = np.mean(df[df['churn'] == 1]['total day charge'])\n",
    "\n",
    "print(f'Mean of total day minutes Non Churners: {non_churn_day_charge_mean}')\n",
    "print(f'Standard Deviation of total day minutes: {day_charge_sd}')\n",
    "print(f'Mean of total day minutes for Churners: {churn_day_charge_mean}')"
   ]
  },
  {
   "cell_type": "code",
   "execution_count": 24,
   "metadata": {},
   "outputs": [
    {
     "data": {
      "text/plain": [
       "Text(0.5, 1.0, 'Service Calls Means')"
      ]
     },
     "execution_count": 24,
     "metadata": {},
     "output_type": "execute_result"
    },
    {
     "data": {
      "image/png": "[encoded data removed]",
      "text/plain": [
       "<Figure size 432x288 with 1 Axes>"
      ]
     },
     "metadata": {
      "needs_background": "light"
     },
     "output_type": "display_data"
    }
   ],
   "source": [
    "import matplotlib.pyplot as plt\n",
    "\n",
    "#Service Calls Metrics\n",
    "\n",
    "plt.bar(['Non Churn Serice Calls', 'Churn Service Calls'], [\n",
    "        non_churn_cust_service_calls_mean, churn_cust_service_calls_mean])\n",
    "\n",
    "plt.title('Service Calls Means')"
   ]
  },
  {
   "cell_type": "code",
   "execution_count": 25,
   "metadata": {},
   "outputs": [
    {
     "data": {
      "text/plain": [
       "Text(0.5, 1.0, 'Day Minutes Means')"
      ]
     },
     "execution_count": 25,
     "metadata": {},
     "output_type": "execute_result"
    },
    {
     "data": {
      "image/png": "[encoded data removed]",
      "text/plain": [
       "<Figure size 432x288 with 1 Axes>"
      ]
     },
     "metadata": {
      "needs_background": "light"
     },
     "output_type": "display_data"
    }
   ],
   "source": [
    "#Day Minutes Metrics\n",
    "\n",
    "plt.bar(['Non Churn Day Minutes', 'Churn Day Minutes'], [\n",
    "        non_churn_day_minutes_mean, churn_day_minutes_mean])\n",
    "\n",
    "plt.title('Day Minutes Means')"
   ]
  },
  {
   "cell_type": "markdown",
   "metadata": {},
   "source": [
    "## Usage Results\n",
    "\n",
    "1. Users with higher usage during the day / charges are clearly more inclined to churn\n",
    "2. This clearly shows that heavy usage users are not experiencing a satisfactory service\n",
    "\n",
    "## Proposition\n",
    "\n",
    "1. Provide a service that scales with usage in order to save 15% of the business\n",
    "2. Specifically when a user starts exceeding 170 / 175 minutes per week offer reduce costs and a higher level of service"
   ]
  }
 ],
 "metadata": {
  "kernelspec": {
   "display_name": "Python 3",
   "language": "python",
   "name": "python3"
  },
  "language_info": {
   "codemirror_mode": {
    "name": "ipython",
    "version": 3
   },
   "file_extension": ".py",
   "mimetype": "text/x-python",
   "name": "python",
   "nbconvert_exporter": "python",
   "pygments_lexer": "ipython3",
   "version": "3.8.5"
  }
 },
 "nbformat": 4,
 "nbformat_minor": 2
}
